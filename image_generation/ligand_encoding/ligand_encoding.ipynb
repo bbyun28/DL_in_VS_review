{
 "cells": [
  {
   "cell_type": "markdown",
   "metadata": {},
   "source": [
    "# Deep Learning in Virtual Screening: Recent Applications and Developments\n",
    "## Review\n",
    "\n",
    "See skeleton outline here:\n",
    "https://docs.google.com/document/d/1KuKU_EHq9j5bYitJWemYmKid9lSvPWwx5vwE6a8vqJU/edit?usp=sharing\n",
    "\n",
    "## Figure generation\n",
    "This notebook serves to generate the figures for the review.\n",
    "\n",
    "Possible drugs:\n",
    "- Vatalanib: c1ccc2c(c1)c(nnc2Nc3ccc(cc3)Cl)Cc4ccncc4\n",
    "- Semaxanib: Cc1cc([nH]c1/C=C\\2/c3ccccc3NC2=O)C \n",
    "- Fasudil: c1cc2cnccc2c(c1)S(=O)(=O)N3CCCNCC3, C1CNCCN(C1)S(=O)(=O)C2=CC=CC3=C2C=CN=C3\n",
    "\n",
    "Link from here: https://www.icoa.fr/pkidb/"
   ]
  },
  {
   "cell_type": "code",
   "execution_count": 1,
   "metadata": {},
   "outputs": [],
   "source": [
    "import numpy as np\n",
    "import matplotlib.pyplot as plt\n",
    "from matplotlib import colors\n",
    "\n",
    "import rdkit\n",
    "from rdkit import Chem\n",
    "from rdkit.Chem import Draw, AllChem"
   ]
  },
  {
   "cell_type": "markdown",
   "metadata": {},
   "source": [
    "### Canonical SMILES\n",
    "We first need the canonical version of the SMILES."
   ]
  },
  {
   "cell_type": "code",
   "execution_count": 2,
   "metadata": {},
   "outputs": [],
   "source": [
    "def to_canonical(smiles):\n",
    "    molecule = Chem.MolFromSmiles(smiles)\n",
    "    return {'can_smiles': Chem.MolToSmiles(molecule,canonical=True), 'molecule': molecule}"
   ]
  },
  {
   "cell_type": "code",
   "execution_count": 3,
   "metadata": {},
   "outputs": [],
   "source": [
    "smiles = \"c1cc2cnccc2c(c1)S(=O)(=O)N3CCCNCC3\""
   ]
  },
  {
   "cell_type": "code",
   "execution_count": 4,
   "metadata": {},
   "outputs": [],
   "source": [
    "mol = to_canonical(smiles)"
   ]
  },
  {
   "cell_type": "code",
   "execution_count": 5,
   "metadata": {},
   "outputs": [
    {
     "name": "stdout",
     "output_type": "stream",
     "text": [
      "Canonical smiles:  O=S(=O)(c1cccc2cnccc12)N1CCCNCC1\n",
      "Length of canonical smiles:  32\n"
     ]
    }
   ],
   "source": [
    "canonical_smiles = mol['can_smiles']\n",
    "print(\"Canonical smiles: \", canonical_smiles)\n",
    "print(\"Length of canonical smiles: \", len(canonical_smiles))"
   ]
  },
  {
   "cell_type": "markdown",
   "metadata": {},
   "source": [
    "### Molecular graph\n",
    "Obtain the molecular graph in RDKit"
   ]
  },
  {
   "cell_type": "code",
   "execution_count": 6,
   "metadata": {},
   "outputs": [
    {
     "data": {
      "image/png": "[encoded data removed]",
      "text/plain": [
       "<rdkit.Chem.rdchem.Mol at 0x7ff468156ad0>"
      ]
     },
     "execution_count": 6,
     "metadata": {},
     "output_type": "execute_result"
    }
   ],
   "source": [
    "molecule = mol['molecule']\n",
    "molecule"
   ]
  },
  {
   "cell_type": "code",
   "execution_count": 7,
   "metadata": {},
   "outputs": [],
   "source": [
    "img = Draw.MolToImage(molecule)\n",
    "img.save(\"fasudil.png\")"
   ]
  },
  {
   "cell_type": "markdown",
   "metadata": {},
   "source": [
    "### Fingerprint\n",
    "Draw a Morgan fingerprint"
   ]
  },
  {
   "cell_type": "code",
   "execution_count": 8,
   "metadata": {},
   "outputs": [],
   "source": [
    "def mol2morgan(smiles):\n",
    "    molecule = Chem.MolFromSmiles(smiles)\n",
    "    return np.array(AllChem.GetMorganFingerprintAsBitVect(molecule, 5, 50))"
   ]
  },
  {
   "cell_type": "code",
   "execution_count": 9,
   "metadata": {},
   "outputs": [
    {
     "name": "stdout",
     "output_type": "stream",
     "text": [
      "[1 0 1 0 0 0 0 1 1 0 1 0 1 0 0 1 0 1 0 1 1 1 1 1 1 0 1 1 1 1 1 1 1 1 1 0 1\n",
      " 0 1 1 1 1 1 1 1 1 1 1 1 1]\n"
     ]
    }
   ],
   "source": [
    "morgan_fp = mol2morgan(canonical_smiles)\n",
    "print(morgan_fp)"
   ]
  },
  {
   "cell_type": "code",
   "execution_count": 10,
   "metadata": {},
   "outputs": [
    {
     "data": {
      "image/png": "[encoded data removed]",
      "text/plain": [
       "<Figure size 432x288 with 1 Axes>"
      ]
     },
     "metadata": {},
     "output_type": "display_data"
    }
   ],
   "source": [
    "f, ax = plt.subplots()\n",
    "ax.imshow(np.reshape(morgan_fp, (1, 50)),  cmap = colors.ListedColormap([(1, 1, 1), 'black']))\n",
    "ax.set_xticks([])\n",
    "ax.set_yticks([])\n",
    "plt.tight_layout()\n",
    "plt.show()\n",
    "f.savefig('morgan_fp.png',\n",
    "          dpi=900, facecolor='w', edgecolor='b',\n",
    "          orientation='portrait', format=None,\n",
    "          transparent=True, bbox_inches=None, pad_inches=0)"
   ]
  },
  {
   "cell_type": "markdown",
   "metadata": {},
   "source": [
    "### Substructures\n",
    "Draw an atom environment of the Morgan fingerprint"
   ]
  },
  {
   "cell_type": "code",
   "execution_count": 11,
   "metadata": {},
   "outputs": [],
   "source": [
    "bi = {}"
   ]
  },
  {
   "cell_type": "code",
   "execution_count": 12,
   "metadata": {},
   "outputs": [],
   "source": [
    "fp = AllChem.GetMorganFingerprintAsBitVect(molecule, 5, bitInfo=bi)"
   ]
  },
  {
   "cell_type": "code",
   "execution_count": 13,
   "metadata": {},
   "outputs": [
    {
     "data": {
      "image/png": "[encoded data removed]",
      "text/plain": [
       "<PIL.PngImagePlugin.PngImageFile image mode=RGB size=150x150 at 0x7FF4681CBE50>"
      ]
     },
     "execution_count": 13,
     "metadata": {},
     "output_type": "execute_result"
    }
   ],
   "source": [
    "Draw.DrawMorganBit(molecule, 366, bi)"
   ]
  },
  {
   "cell_type": "code",
   "execution_count": 14,
   "metadata": {},
   "outputs": [],
   "source": [
    "img = Draw.DrawMorganBit(molecule, 366, bi)\n",
    "img.save(\"atom_environment.png\")"
   ]
  },
  {
   "cell_type": "markdown",
   "metadata": {},
   "source": [
    "### Graph featurizer\n",
    "#### Adjacency matrix"
   ]
  },
  {
   "cell_type": "code",
   "execution_count": 15,
   "metadata": {},
   "outputs": [],
   "source": [
    "adj_mat = Chem.rdmolops.GetAdjacencyMatrix(molecule)"
   ]
  },
  {
   "cell_type": "code",
   "execution_count": 16,
   "metadata": {},
   "outputs": [
    {
     "data": {
      "image/png": "[encoded data removed]",
      "text/plain": [
       "<Figure size 432x288 with 1 Axes>"
      ]
     },
     "metadata": {},
     "output_type": "display_data"
    }
   ],
   "source": [
    "f, ax = plt.subplots()\n",
    "ax.imshow(adj_mat, cmap = colors.ListedColormap([(1, 1, 1), 'black']))\n",
    "ax.set_xticks([])\n",
    "ax.set_yticks([])\n",
    "ax.patch.set_edgecolor('black')  \n",
    "ax.patch.set_linewidth('1') \n",
    "plt.show()\n",
    "f.savefig('adj_matrix.png')"
   ]
  },
  {
   "cell_type": "markdown",
   "metadata": {},
   "source": [
    "#### Feature matrix"
   ]
  },
  {
   "cell_type": "code",
   "execution_count": 17,
   "metadata": {},
   "outputs": [
    {
     "name": "stdout",
     "output_type": "stream",
     "text": [
      "Feature matrix X with shape (20, 3) \n",
      " [[ 6.  2.  1.]\n",
      " [ 6.  2.  1.]\n",
      " [ 6.  3.  1.]\n",
      " [ 6.  2.  1.]\n",
      " [ 7.  2.  1.]\n",
      " [ 6.  2.  1.]\n",
      " [ 6.  2.  1.]\n",
      " [ 6.  3.  1.]\n",
      " [ 6.  3.  1.]\n",
      " [ 6.  2.  1.]\n",
      " [16.  4.  0.]\n",
      " [ 8.  1.  0.]\n",
      " [ 8.  1.  0.]\n",
      " [ 7.  3.  0.]\n",
      " [ 6.  2.  0.]\n",
      " [ 6.  2.  0.]\n",
      " [ 6.  2.  0.]\n",
      " [ 7.  2.  0.]\n",
      " [ 6.  2.  0.]\n",
      " [ 6.  2.  0.]]\n"
     ]
    }
   ],
   "source": [
    "nb_features = 3\n",
    "X = np.zeros((molecule.GetNumAtoms(), nb_features))\n",
    "\n",
    "for i, atom in enumerate(molecule.GetAtoms()):\n",
    "    X[i,:] = [atom.GetAtomicNum(), atom.GetDegree(), atom.GetIsAromatic()]\n",
    "    \n",
    "print(f'Feature matrix X with shape {X.shape} \\n {X}')"
   ]
  },
  {
   "cell_type": "code",
   "execution_count": 18,
   "metadata": {},
   "outputs": [
    {
     "data": {
      "image/png": "[encoded data removed]",
      "text/plain": [
       "<Figure size 432x288 with 1 Axes>"
      ]
     },
     "metadata": {
      "needs_background": "light"
     },
     "output_type": "display_data"
    }
   ],
   "source": [
    "f = plt.figure()\n",
    "plt.imshow(X)\n",
    "plt.axis('off')\n",
    "plt.show()\n",
    "f.savefig('feature_matrix.png')"
   ]
  },
  {
   "cell_type": "markdown",
   "metadata": {},
   "source": [
    "### Label & One hot encoding of SMILES"
   ]
  },
  {
   "cell_type": "code",
   "execution_count": 19,
   "metadata": {},
   "outputs": [],
   "source": [
    "def get_unique_elements_as_dict(list_):\n",
    "    '''\n",
    "    Given a list, obtain dictonary with unique elements as keys and integer as values.\n",
    "    '''\n",
    "    all_elements = ''.join(list_)\n",
    "    unique_elements = sorted(list(set(all_elements)))\n",
    "    #unique_elements.sort()\n",
    "    return {unique_elem: i for i, unique_elem in enumerate(unique_elements)}"
   ]
  },
  {
   "cell_type": "code",
   "execution_count": 20,
   "metadata": {},
   "outputs": [
    {
     "name": "stdout",
     "output_type": "stream",
     "text": [
      "{'(': 0, ')': 1, '1': 2, '2': 3, '=': 4, 'C': 5, 'N': 6, 'O': 7, 'S': 8, 'c': 9, 'n': 10}\n",
      "Length: 11\n"
     ]
    }
   ],
   "source": [
    "DICTIONARY = get_unique_elements_as_dict(canonical_smiles)\n",
    "print(DICTIONARY)\n",
    "print(\"Length:\", len(DICTIONARY))"
   ]
  },
  {
   "cell_type": "code",
   "execution_count": 21,
   "metadata": {},
   "outputs": [],
   "source": [
    "def label_encode(sequence, dictionary):\n",
    "    \"\"\"\n",
    "    Creates the label encoding of a sequence given a dictionary.\n",
    "    \"\"\"\n",
    "    label_vector = np.zeros(len(sequence), dtype=np.int)\n",
    "    for i, char in enumerate(sequence):\n",
    "        for j, elem in enumerate(dictionary):\n",
    "            if char == elem:\n",
    "                label_vector[i] = j\n",
    "    return label_vector"
   ]
  },
  {
   "cell_type": "code",
   "execution_count": 22,
   "metadata": {},
   "outputs": [
    {
     "name": "stdout",
     "output_type": "stream",
     "text": [
      "SMILES label encoding: \n",
      " [ 7  4  8  0  4  7  1  0  9  2  9  9  9  9  3  9 10  9  9  9  2  3  1  6\n",
      "  2  5  5  5  6  5  5  2]\n",
      "Length of vector: \n",
      "  32\n"
     ]
    }
   ],
   "source": [
    "smiles_label = label_encode(canonical_smiles, DICTIONARY)\n",
    "print(\"SMILES label encoding: \\n\", smiles_label)\n",
    "print(\"Length of vector: \\n \", len(smiles_label))"
   ]
  },
  {
   "cell_type": "code",
   "execution_count": 23,
   "metadata": {},
   "outputs": [
    {
     "data": {
      "image/png": "[encoded data removed]",
      "text/plain": [
       "<Figure size 432x288 with 1 Axes>"
      ]
     },
     "metadata": {},
     "output_type": "display_data"
    }
   ],
   "source": [
    "f, ax = plt.subplots()\n",
    "ax.imshow(np.reshape(smiles_label, (1, len(smiles_label))))\n",
    "ax.set_xticks([])\n",
    "ax.set_yticks([])\n",
    "f.savefig('smiles_label.png',\n",
    "          dpi=900, facecolor='w', edgecolor='w',\n",
    "          orientation='portrait', format=None,\n",
    "         transparent=True, bbox_inches=None, pad_inches=0)"
   ]
  },
  {
   "cell_type": "code",
   "execution_count": 24,
   "metadata": {},
   "outputs": [],
   "source": [
    "def one_hot_encode(sequence, dictionary):\n",
    "    \"\"\"\n",
    "    Creates the one-hot encoding of a sequence given a dictionary.\n",
    "    \"\"\"\n",
    "    ohe_matrix = np.zeros((len(dictionary), len(sequence)))\n",
    "    for i, character in enumerate(sequence):\n",
    "        ohe_matrix[dictionary[character],i] = 1\n",
    "    return ohe_matrix"
   ]
  },
  {
   "cell_type": "code",
   "execution_count": 25,
   "metadata": {},
   "outputs": [
    {
     "name": "stdout",
     "output_type": "stream",
     "text": [
      "Shape of one-hot matrix:  (11, 32)\n"
     ]
    }
   ],
   "source": [
    "smiles_OH = one_hot_encode(canonical_smiles, DICTIONARY)\n",
    "print(\"Shape of one-hot matrix: \", smiles_OH.shape)"
   ]
  },
  {
   "cell_type": "code",
   "execution_count": 26,
   "metadata": {},
   "outputs": [
    {
     "data": {
      "text/plain": [
       "({'(': 0,\n",
       "  ')': 1,\n",
       "  '1': 2,\n",
       "  '2': 3,\n",
       "  '=': 4,\n",
       "  'C': 5,\n",
       "  'N': 6,\n",
       "  'O': 7,\n",
       "  'S': 8,\n",
       "  'c': 9,\n",
       "  'n': 10},\n",
       " 11)"
      ]
     },
     "execution_count": 26,
     "metadata": {},
     "output_type": "execute_result"
    }
   ],
   "source": [
    "DICTIONARY, len(DICTIONARY)"
   ]
  },
  {
   "cell_type": "code",
   "execution_count": 27,
   "metadata": {},
   "outputs": [
    {
     "data": {
      "image/png": "[encoded data removed]",
      "text/plain": [
       "<Figure size 432x288 with 1 Axes>"
      ]
     },
     "metadata": {},
     "output_type": "display_data"
    }
   ],
   "source": [
    "f, ax = plt.subplots()\n",
    "ax.imshow(smiles_OH, cmap = colors.ListedColormap([(1, 1, 1), 'black']))\n",
    "ax.set_xticks([])\n",
    "ax.set_yticks([])\n",
    "ax.patch.set_edgecolor('black')  \n",
    "ax.patch.set_linewidth('1') \n",
    "plt.show()\n",
    "f.savefig('smiles_onehot.png',\n",
    "          dpi=300, facecolor='w', edgecolor='w',\n",
    "          orientation='portrait',\n",
    "         transparent=True, bbox_inches=None, pad_inches=0)"
   ]
  }
 ],
 "metadata": {
  "kernelspec": {
   "display_name": "Python 3",
   "language": "python",
   "name": "python3"
  },
  "language_info": {
   "codemirror_mode": {
    "name": "ipython",
    "version": 3
   },
   "file_extension": ".py",
   "mimetype": "text/x-python",
   "name": "python",
   "nbconvert_exporter": "python",
   "pygments_lexer": "ipython3",
   "version": "3.9.2"
  }
 },
 "nbformat": 4,
 "nbformat_minor": 4
}
