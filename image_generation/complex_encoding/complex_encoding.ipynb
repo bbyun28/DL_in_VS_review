{
 "cells": [
  {
   "cell_type": "markdown",
   "id": "subsequent-madness",
   "metadata": {},
   "source": [
    "# Deep Learning in Virtual Screening: Recent Applications and Developments\n",
    "## Review\n",
    "See skeleton outline here:\n",
    "https://docs.google.com/document/d/1KuKU_EHq9j5bYitJWemYmKid9lSvPWwx5vwE6a8vqJU/edit?usp=sharing\n",
    "\n",
    "## Figure generation\n",
    "This notebook serves to generate the figures for the review.\n",
    "\n",
    "### Complex encoding\n",
    "This complex figure is based on the crystal structure of ROCK 1 bound to fasudil.\n",
    "- ROCK 1: ROCK1 is a protein serine/threonine kinase also known as rho-associated, coiled-coil-containing protein kinase 1, which plays a role in cancer.\n",
    "- Fasudil: c1cc2cnccc2c(c1)S(=O)(=O)N3CCCNCC3\n",
    "\n",
    "Link from here: https://www.rcsb.org/structure/2ESM"
   ]
  },
  {
   "cell_type": "code",
   "execution_count": 71,
   "id": "prime-receiver",
   "metadata": {},
   "outputs": [],
   "source": [
    "from pathlib import Path\n",
    "\n",
    "import nglview as nv\n",
    "from rdkit import Chem\n",
    "import oddt.toolkits\n",
    "from oddt.fingerprints import InteractionFingerprint\n",
    "from oddt.fingerprints import SimpleInteractionFingerprint\n",
    "from oddt.fingerprints import PLEC\n",
    "\n",
    "HERE = Path(_dh[-1])\n",
    "DATA = HERE / \"data\""
   ]
  },
  {
   "source": [
    "#### Show the structure of the protein and ligand."
   ],
   "cell_type": "markdown",
   "metadata": {}
  },
  {
   "cell_type": "code",
   "execution_count": 72,
   "id": "boxed-letter",
   "metadata": {},
   "outputs": [],
   "source": [
    "pdb_id = \"2esm\""
   ]
  },
  {
   "cell_type": "code",
   "execution_count": 73,
   "id": "headed-services",
   "metadata": {},
   "outputs": [],
   "source": [
    "# show the complex based on PDB ID\n",
    "ngl_viewer = nv.show_pdbid(pdb_id)"
   ]
  },
  {
   "cell_type": "code",
   "execution_count": 74,
   "id": "visible-tract",
   "metadata": {},
   "outputs": [],
   "source": [
    "# add the ligands\n",
    "ngl_viewer.add_representation(repr_type=\"ball+stick\",\n",
    "                              selection=\"hetero and not water\")"
   ]
  },
  {
   "cell_type": "code",
   "execution_count": 77,
   "id": "proper-continuity",
   "metadata": {},
   "outputs": [],
   "source": [
    "# center view on binding site\n",
    "ngl_viewer.center(\"ligand\")"
   ]
  },
  {
   "cell_type": "code",
   "execution_count": 78,
   "id": "grave-mason",
   "metadata": {},
   "outputs": [],
   "source": [
    "# render a static image\n",
    "ngl_viewer.render_image(trim=True, factor=2, transparent=True);"
   ]
  },
  {
   "cell_type": "code",
   "execution_count": 81,
   "id": "traditional-brake",
   "metadata": {},
   "outputs": [
    {
     "output_type": "stream",
     "name": "stdout",
     "text": [
      "The structure of the complex between DOCK1 and fasudil:\n"
     ]
    },
    {
     "output_type": "display_data",
     "data": {
      "text/plain": "NGLWidget(n_components=1)",
      "application/vnd.jupyter.widget-view+json": {
       "version_major": 2,
       "version_minor": 0,
       "model_id": "b01bde8b29c1447a9483e344c41d5974"
      }
     },
     "metadata": {}
    }
   ],
   "source": [
    "print('The structure of the complex between DOCK1 and fasudil:')\n",
    "# ngl_viewer._display_image()\n",
    "ngl_viewer"
   ]
  },
  {
   "cell_type": "code",
   "execution_count": 24,
   "metadata": {},
   "outputs": [],
   "source": [
    "# Canonical SMILES of ligand\n",
    "fasudil = \"c1cc2cnccc2c(c1)S(=O)(=O)N3CCCNCC3\""
   ]
  },
  {
   "cell_type": "code",
   "execution_count": 69,
   "metadata": {},
   "outputs": [
    {
     "output_type": "stream",
     "name": "stdout",
     "text": [
      "The structure of fasudil:\n"
     ]
    },
    {
     "output_type": "execute_result",
     "data": {
      "text/plain": [
       "<rdkit.Chem.rdchem.Mol at 0x15d6d2f80>"
      ],
      "image/png": "[encoded data removed]"
     },
     "metadata": {},
     "execution_count": 69
    }
   ],
   "source": [
    "# Show the ligand\n",
    "mol = Chem.MolFromSmiles(fasudil)\n",
    "print('The structure of fasudil:')\n",
    "mol"
   ]
  },
  {
   "source": [
    "#### Show the interaction fingerprints\n",
    "Link from here: https://oddt.readthedocs.io/en/latest/index.html?highlight=interaction%20fingerprint#interaction-fingerprints"
   ],
   "cell_type": "markdown",
   "metadata": {}
  },
  {
   "cell_type": "code",
   "execution_count": 13,
   "metadata": {},
   "outputs": [],
   "source": [
    "ifps = InteractionFingerprint(ligand, protein)\n",
    "sifp = SimpleInteractionFingerprint(ligand, protein)\n",
    "plec = PLEC(ligand, protein, sparse=False)"
   ]
  },
  {
   "cell_type": "code",
   "execution_count": 35,
   "metadata": {},
   "outputs": [
    {
     "output_type": "stream",
     "name": "stdout",
     "text": [
      "[0 0 0 ... 0 0 0]\n"
     ]
    }
   ],
   "source": [
    "# show the interaction fingerprint\n",
    "print(ifps)"
   ]
  },
  {
   "cell_type": "code",
   "execution_count": 20,
   "metadata": {},
   "outputs": [
    {
     "output_type": "stream",
     "name": "stdout",
     "text": [
      "[0 0 0 0 0 0 0 0 1 0 0 0 0 0 0 0 0 0 0 0 0 0 0 0 0 0 0 0 0 0 0 0 0 0 0 0 1\n 0 0 0 0 0 0 0 0 0 0 0 0 0 0 0 0 0 0 0 0 0 0 0 0 0 0 0 0 0 0 0 0 0 0 0 0 0\n 0 0 0 0 0 0 1 0 0 0 0 0 0 0 4 0 0 0 0 0 0 0 0 0 0 0 0 0 0 0 0 0 0 0 0 0 0\n 0 2 0 0 0 0 0 0 0 0 0 0 0 0 0 0 0 0 0 0 0 0 0 0 0 0 0 0 0 0 0 0 0 0 0 0 0\n 0 0 0 0 0 0 0 0 0 0 0 0 1 0 0 0 0 0 0 0]\n"
     ]
    }
   ],
   "source": [
    "# show the simple interaction fingerprint\n",
    "print(sifp)"
   ]
  },
  {
   "cell_type": "code",
   "execution_count": 34,
   "metadata": {},
   "outputs": [
    {
     "output_type": "stream",
     "name": "stdout",
     "text": [
      "[0 0 0 ... 0 0 0]\n"
     ]
    }
   ],
   "source": [
    "# show the PLEC fingerprint\n",
    "print(plec)"
   ]
  },
  {
   "source": [
    "#### Show the 3D grid\n",
    "For detail of the drawgridbox method, please see [here](https://blog.csdn.net/u012325865/article/details/103495156). "
   ],
   "cell_type": "markdown",
   "metadata": {}
  },
  {
   "cell_type": "code",
   "execution_count": 2,
   "metadata": {},
   "outputs": [
    {
     "output_type": "stream",
     "name": "stdout",
     "text": [
      "Cannot find license file.\n",
      " The license files (or license server system network addresses) attempted are \n",
      "listed below.  Use LM_LICENSE_FILE to use a different license file,\n",
      " or contact your software provider for a license file.\n",
      "Feature:       PYMOL_MAIN\n",
      "Filename:      /Library/Application Support/Schrodinger/licenses\n",
      "License path:  /Library/Application Support/Schrodinger/licenses:\n",
      "FlexNet Licensing error:-1,359.  System Error: 2 \"No such file or directory\"\n",
      " PyMOL(TM) 2.4.2 - Incentive Product\n",
      " Copyright (C) Schrodinger, LLC\n",
      " \n",
      " This Executable Build integrates and extends Open-Source PyMOL.\n",
      " Detected OpenGL version 2.1. Shaders available.\n",
      " Detected GLSL version 1.20.\n",
      " OpenGL graphics engine:\n",
      "  GL_VENDOR:   Intel Inc.\n",
      "  GL_RENDERER: Intel(R) Iris(TM) Plus Graphics 655\n",
      "  GL_VERSION:  2.1 INTEL-12.10.25\n",
      "No License File - For Evaluation Only (0 days remaining)\n",
      " Detected 8 CPU cores.  Enabled multithreaded rendering.\n",
      "\u001b[34mPyMOL>drawgridbox 20A, nx=10, ny=10, nz=10,  lw=0.5, g=0, b=0, r=0\u001b[m\n",
      "Box dimensions (45.19, 41.27, 40.61)\n"
     ]
    }
   ],
   "source": [
    "# run the pymol script to generate the image.\n",
    "! pymol pymol_3d_grid_encoding.py"
   ]
  },
  {
   "source": [
    "#### Show the graph encoding"
   ],
   "cell_type": "markdown",
   "metadata": {}
  }
 ],
 "metadata": {
  "kernelspec": {
   "display_name": "Python 3",
   "language": "python",
   "name": "python3"
  },
  "language_info": {
   "codemirror_mode": {
    "name": "ipython",
    "version": 3
   },
   "file_extension": ".py",
   "mimetype": "text/x-python",
   "name": "python",
   "nbconvert_exporter": "python",
   "pygments_lexer": "ipython3",
   "version": "3.8.6-final"
  }
 },
 "nbformat": 4,
 "nbformat_minor": 5
}